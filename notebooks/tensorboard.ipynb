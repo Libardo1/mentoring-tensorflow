{
 "cells": [
  {
   "cell_type": "code",
   "execution_count": 1,
   "metadata": {
    "collapsed": false
   },
   "outputs": [
    {
     "name": "stdout",
     "output_type": "stream",
     "text": [
      "Successfully downloaded train-images-idx3-ubyte.gz 9912422 bytes.\n",
      "Extracting /tmp/data/train-images-idx3-ubyte.gz\n",
      "Successfully downloaded train-labels-idx1-ubyte.gz 28881 bytes.\n",
      "Extracting /tmp/data/train-labels-idx1-ubyte.gz\n",
      "Successfully downloaded t10k-images-idx3-ubyte.gz 1648877 bytes.\n",
      "Extracting /tmp/data/t10k-images-idx3-ubyte.gz\n",
      "Successfully downloaded t10k-labels-idx1-ubyte.gz 4542 bytes.\n",
      "Extracting /tmp/data/t10k-labels-idx1-ubyte.gz\n"
     ]
    }
   ],
   "source": [
    "import tensorflow as tf\n",
    "\n",
    "# Import MINST data\n",
    "from tensorflow.examples.tutorials.mnist import input_data\n",
    "mnist = input_data.read_data_sets(\"/tmp/data/\", one_hot=True)"
   ]
  },
  {
   "cell_type": "code",
   "execution_count": 2,
   "metadata": {
    "collapsed": true
   },
   "outputs": [],
   "source": [
    "# set parameters\n",
    "learning_rate = 0.001\n",
    "training_epochs = 15\n",
    "batch_size = 100\n",
    "display_step = 1\n",
    "\n",
    "# network parameters\n",
    "n_hidden_1 = 256 # 1st layer number of features\n",
    "n_hidden_2 = 256 # 2nd layer number of features\n",
    "n_input = 784 # MNIST data input (img shape: 28*28)\n",
    "n_classes = 10 # MNIST total classes (0-9 digits)\n",
    "\n",
    "# tf Graph input\n",
    "x = tf.placeholder(\"float\", [None, n_input])\n",
    "y = tf.placeholder(\"float\", [None, n_classes])"
   ]
  },
  {
   "cell_type": "code",
   "execution_count": 3,
   "metadata": {
    "collapsed": false
   },
   "outputs": [],
   "source": [
    "weights = dict()\n",
    "biases  = dict()\n",
    "\n",
    "def multilayer_perceptron(x):\n",
    "    with tf.variable_scope(\"layer_1\"):\n",
    "        weights[\"w1\"] = tf.Variable(tf.random_normal([n_input, n_hidden_1]))\n",
    "        biases[\"b1\"]  = tf.Variable(tf.random_normal([n_hidden_1]))\n",
    "        layer_1 = tf.add(tf.matmul(x, weights[\"w1\"]), biases[\"b1\"])\n",
    "        layer_1 = tf.nn.relu(layer_1)\n",
    "    \n",
    "    with tf.variable_scope(\"layer_2\"):\n",
    "        weights[\"w2\"] = tf.Variable(tf.random_normal([n_hidden_1, n_hidden_2]))\n",
    "        biases[\"b2\"]  = tf.Variable(tf.random_normal([n_hidden_2]))\n",
    "        layer_2 = tf.add(tf.matmul(layer_1, weights[\"w2\"]), biases[\"b2\"])\n",
    "        layer_2 = tf.nn.relu(layer_2)\n",
    "    \n",
    "    with tf.variable_scope(\"out\"):\n",
    "        weights[\"out\"] = tf.Variable(tf.random_normal([n_hidden_2, n_classes]))\n",
    "        biases[\"out\"]  = tf.Variable(tf.random_normal([n_classes]))\n",
    "        out_layer = tf.matmul(layer_2, weights[\"out\"]) + biases[\"out\"]\n",
    "        return out_layer\n",
    "\n",
    "with tf.name_scope(\"netowrk\"):\n",
    "    pred = multilayer_perceptron(x)\n",
    "    \n",
    "with tf.name_scope('loss'):\n",
    "    cost = tf.reduce_mean(tf.nn.softmax_cross_entropy_with_logits(pred, y))\n",
    "    \n",
    "with tf.name_scope('SGD'):\n",
    "    optimizer = tf.train.GradientDescentOptimizer(learning_rate).minimize(cost)\n",
    "    \n",
    "with tf.name_scope('accuracy'):\n",
    "    # Accuracy\n",
    "    acc = tf.equal(tf.argmax(pred, 1), tf.argmax(y, 1))\n",
    "    acc = tf.reduce_mean(tf.cast(acc, tf.float32))"
   ]
  },
  {
   "cell_type": "code",
   "execution_count": 4,
   "metadata": {
    "collapsed": false
   },
   "outputs": [],
   "source": [
    "init = tf.global_variables_initializer()\n",
    "\n",
    "# create a summary to monitor cost tensor\n",
    "tf.scalar_summary(\"loss\", cost)\n",
    "# create a summary to monitor accuracy tensor\n",
    "tf.scalar_summary(\"accuracy\", acc)\n",
    "# merge all summaries into a single op\n",
    "merged_summary_op = tf.merge_all_summaries()"
   ]
  },
  {
   "cell_type": "code",
   "execution_count": 5,
   "metadata": {
    "collapsed": false
   },
   "outputs": [
    {
     "name": "stdout",
     "output_type": "stream",
     "text": [
      "Epoch: 0001 cost=159.86736\n",
      "Epoch: 0002 cost=58.33803\n",
      "Epoch: 0003 cost=42.59859\n",
      "Epoch: 0004 cost=34.21207\n",
      "Epoch: 0005 cost=28.90704\n",
      "Epoch: 0006 cost=25.18798\n",
      "Epoch: 0007 cost=22.32719\n",
      "Epoch: 0008 cost=20.14069\n",
      "Epoch: 0009 cost=18.28160\n",
      "Epoch: 0010 cost=16.78392\n",
      "Epoch: 0011 cost=15.47625\n",
      "Epoch: 0012 cost=14.33692\n",
      "Epoch: 0013 cost=13.32889\n",
      "Epoch: 0014 cost=12.51397\n",
      "Epoch: 0015 cost=11.72000\n",
      "Optimization Finished!\n",
      "Train accuracy: 0.932818591594696\n",
      "Test accuracy: 0.9124001264572144\n"
     ]
    }
   ],
   "source": [
    "config = tf.ConfigProto(gpu_options=tf.GPUOptions(allow_growth=True))\n",
    "sess = tf.Session(config=config)\n",
    "sess.run(init)\n",
    "\n",
    "# op to write logs to Tensorboard\n",
    "summary_writer = tf.train.SummaryWriter(\"tmp/tensorflow_logs\", graph=tf.get_default_graph())\n",
    "\n",
    "# training cycle\n",
    "for epoch in range(training_epochs):\n",
    "    avg_cost = 0.\n",
    "    total_batch = int(mnist.train.num_examples/batch_size)\n",
    "\n",
    "    for i in range(total_batch):\n",
    "        batch_xs, batch_ys = mnist.train.next_batch(batch_size)\n",
    "        # run optimization op (backprop), cost op (to get loss value)\n",
    "        # and summary nodes\n",
    "        _, c, summary = sess.run([optimizer, cost, merged_summary_op],\n",
    "                                 feed_dict={x: batch_xs, y: batch_ys})\n",
    "        # write logs at every iteration\n",
    "        summary_writer.add_summary(summary, epoch * total_batch + i)\n",
    "        # compute average loss\n",
    "        avg_cost += c / total_batch\n",
    "    \n",
    "    # display logs per epoch step\n",
    "    if (epoch+1) % display_step == 0:\n",
    "        print(\"Epoch: {0:04d} cost={1:.5f}\" .format(epoch+1, avg_cost))\n",
    "print(\"Optimization Finished!\")\n",
    "\n",
    "# Test model\n",
    "# Calculate accuracy\n",
    "print(\"Train accuracy: {0}\" \n",
    "      .format(sess.run(acc, feed_dict={x: mnist.train.images, y: mnist.train.labels})))\n",
    "print(\"Test accuracy: {0}\" \n",
    "      .format(sess.run(acc, feed_dict={x: mnist.test.images, y: mnist.test.labels})))"
   ]
  },
  {
   "cell_type": "markdown",
   "metadata": {},
   "source": [
    "## Run tensorboard\n",
    "\n",
    "```shell\n",
    "$ tensorboard --logdir=tmp/tensorflow_logs --host=... --port=...\n",
    "```"
   ]
  },
  {
   "cell_type": "markdown",
   "metadata": {},
   "source": [
    "![graph](../assets/graph.png)\n",
    "![loss](../assets/loss.png)\n",
    "\n",
    "### BLACK???????\n",
    "Actually, in tensorflow 0.11 version there are some bugs when plot scalr graph... :(<br>\n",
    "See https://github.com/tensorflow/tensorflow/issues/4856"
   ]
  },
  {
   "cell_type": "code",
   "execution_count": null,
   "metadata": {
    "collapsed": true
   },
   "outputs": [],
   "source": []
  }
 ],
 "metadata": {
  "kernelspec": {
   "display_name": "Python 3",
   "language": "python",
   "name": "python3"
  },
  "language_info": {
   "codemirror_mode": {
    "name": "ipython",
    "version": 3
   },
   "file_extension": ".py",
   "mimetype": "text/x-python",
   "name": "python",
   "nbconvert_exporter": "python",
   "pygments_lexer": "ipython3",
   "version": "3.4.3"
  }
 },
 "nbformat": 4,
 "nbformat_minor": 0
}
