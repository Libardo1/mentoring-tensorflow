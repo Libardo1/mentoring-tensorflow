{
 "cells": [
  {
   "cell_type": "markdown",
   "metadata": {},
   "source": [
    "## Classify Flower dataset!\n",
    "Give provided code, classify flower dataset.\n",
    "Dataset is in `/tmp/flower_photos`.\n",
    "\n",
    "```shell\n",
    "$ ls /tmp/flower_photos\n",
    "drwx------ 2 nmhkahn nmhkahn  36864 Feb 11  2016 daisy\n",
    "drwx------ 2 nmhkahn nmhkahn  53248 Feb 11  2016 dandelion\n",
    "-rw-r----- 1 nmhkahn nmhkahn 418049 Feb  9  2016 LICENSE.txt\n",
    "drwx------ 2 nmhkahn nmhkahn  36864 Feb 11  2016 roses\n",
    "drwx------ 2 nmhkahn nmhkahn  36864 Feb 11  2016 sunflowers\n",
    "drwx------ 2 nmhkahn nmhkahn  45056 Feb 11  2016 tulips\n",
    "```\n",
    "\n",
    "Note that there is no explicit label, use directory information(daisy dandelion...) as labels.<br>\n",
    "What's your best train accuracy? what about test accuracy?\n",
    "\n",
    "### Assumption\n",
    "train/test data split ratio is **7:3**<br>\n",
    "But if you split train/test data, ratio of class label must be similar. For example in my case I would split like below\n",
    "\n",
    "```python\n",
    "# naive version\n",
    "daisy = load_daisy()\n",
    "dandelion = load_dandelion()\n",
    "...\n",
    "\n",
    "num_train = len(daisy)*0.7\n",
    "np.random.shuffle(daisy)\n",
    "train_data.append(daisy[:num_train])\n",
    "test_data.append(daisy[num_train:])\n",
    "...\n",
    "\n",
    "# in many case numpy is more fast and easy to handle,\n",
    "# so I prefer convert to np array type\n",
    "train_data = np.array(train_data)\n",
    "test_data = np.array(test_data)\n",
    "\n",
    "np.random.shuffle(train_data)\n",
    "np.random.shuffle(test_data)\n",
    "```\n",
    "\n",
    "And if you have trouble about split train/test read this stackoverflow [post](http://stackoverflow.com/questions/3674409/numpy-how-to-split-partition-a-dataset-array-into-training-and-test-datasets)"
   ]
  },
  {
   "cell_type": "code",
   "execution_count": null,
   "metadata": {
    "collapsed": true
   },
   "outputs": [],
   "source": [
    "# code in here"
   ]
  }
 ],
 "metadata": {
  "kernelspec": {
   "display_name": "Python 3",
   "language": "python",
   "name": "python3"
  },
  "language_info": {
   "codemirror_mode": {
    "name": "ipython",
    "version": 3
   },
   "file_extension": ".py",
   "mimetype": "text/x-python",
   "name": "python",
   "nbconvert_exporter": "python",
   "pygments_lexer": "ipython3",
   "version": "3.4.3"
  }
 },
 "nbformat": 4,
 "nbformat_minor": 0
}
