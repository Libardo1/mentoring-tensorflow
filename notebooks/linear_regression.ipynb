{
 "cells": [
  {
   "cell_type": "code",
   "execution_count": 1,
   "metadata": {
    "collapsed": true
   },
   "outputs": [],
   "source": [
    "import tensorflow as tf\n",
    "import numpy as np\n",
    "import matplotlib.pyplot as plt\n",
    "%matplotlib inline  "
   ]
  },
  {
   "cell_type": "code",
   "execution_count": 2,
   "metadata": {
    "collapsed": true
   },
   "outputs": [],
   "source": [
    "# set parameters\n",
    "learning_rate = 0.01\n",
    "training_epochs = 1000\n",
    "display_step = 50"
   ]
  },
  {
   "cell_type": "code",
   "execution_count": 3,
   "metadata": {
    "collapsed": false
   },
   "outputs": [],
   "source": [
    "# training Data\n",
    "train_X = np.asarray([3.3,4.4,5.5,6.71,6.93,4.168,9.779,6.182,7.59,2.167,\n",
    "                         7.042,10.791,5.313,7.997,5.654,9.27,3.1])\n",
    "train_Y = np.asarray([1.7,2.76,2.09,3.19,1.694,1.573,3.366,2.596,2.53,1.221,\n",
    "                         2.827,3.465,1.65,2.904,2.42,2.94,1.3])\n",
    "n_samples = train_X.shape[0]"
   ]
  },
  {
   "cell_type": "code",
   "execution_count": 4,
   "metadata": {
    "collapsed": false
   },
   "outputs": [
    {
     "name": "stdout",
     "output_type": "stream",
     "text": [
      "Output(\"Placeholder:0\", dtype=float32) <unknown>\n",
      "Output(\"Placeholder_1:0\", dtype=float32) <unknown>\n",
      "Output(\"weight/read:0\", shape=(), dtype=float32) ()\n",
      "Output(\"bias/read:0\", shape=(), dtype=float32) ()\n"
     ]
    }
   ],
   "source": [
    "# tf Graph Input\n",
    "X = tf.placeholder(\"float\")\n",
    "Y = tf.placeholder(\"float\")\n",
    "\n",
    "# set model weights\n",
    "W = tf.Variable(np.random.randn(), name=\"weight\")\n",
    "b = tf.Variable(np.random.randn(), name=\"bias\")\n",
    "\n",
    "print(X, X.get_shape())\n",
    "print(Y, Y.get_shape())\n",
    "print(W, W.get_shape())\n",
    "print(b, b.get_shape())"
   ]
  },
  {
   "cell_type": "code",
   "execution_count": 5,
   "metadata": {
    "collapsed": false
   },
   "outputs": [
    {
     "name": "stdout",
     "output_type": "stream",
     "text": [
      "Output(\"Add:0\", dtype=float32)\n"
     ]
    }
   ],
   "source": [
    "# construct a linear model\n",
    "pred = tf.add(tf.mul(X, W), b)\n",
    "print(pred)"
   ]
  },
  {
   "cell_type": "code",
   "execution_count": 6,
   "metadata": {
    "collapsed": true
   },
   "outputs": [],
   "source": [
    "# mean squared error\n",
    "cost = tf.reduce_sum(tf.pow(pred-Y, 2))/(2*n_samples)\n",
    "# gradient descent\n",
    "optimizer = tf.train.GradientDescentOptimizer(learning_rate).minimize(cost)"
   ]
  },
  {
   "cell_type": "code",
   "execution_count": 7,
   "metadata": {
    "collapsed": false
   },
   "outputs": [],
   "source": [
    "# initialize variables before run\n",
    "init = tf.global_variables_initializer()"
   ]
  },
  {
   "cell_type": "code",
   "execution_count": 8,
   "metadata": {
    "collapsed": false
   },
   "outputs": [
    {
     "name": "stdout",
     "output_type": "stream",
     "text": [
      "Epoch: 0050 cost=0.105492480 W=0.34410783648490906 b=0.1215377002954483\n",
      "Epoch: 0100 cost=0.102195121 W=0.33848661184310913 b=0.16197636723518372\n",
      "Epoch: 0150 cost=0.099278815 W=0.33319979906082153 b=0.20000982284545898\n",
      "Epoch: 0200 cost=0.096699536 W=0.3282272219657898 b=0.23578132688999176\n",
      "Epoch: 0250 cost=0.094418325 W=0.3235504627227783 b=0.26942574977874756\n",
      "Epoch: 0300 cost=0.092400752 W=0.319151908159256 b=0.3010690212249756\n",
      "Epoch: 0350 cost=0.090616435 W=0.31501495838165283 b=0.3308301270008087\n",
      "Epoch: 0400 cost=0.089038432 W=0.31112396717071533 b=0.3588210940361023\n",
      "Epoch: 0450 cost=0.087642819 W=0.30746448040008545 b=0.38514748215675354\n",
      "Epoch: 0500 cost=0.086408600 W=0.3040226399898529 b=0.4099080264568329\n",
      "Epoch: 0550 cost=0.085317165 W=0.3007855713367462 b=0.43319547176361084\n",
      "Epoch: 0600 cost=0.084351920 W=0.2977408766746521 b=0.45509839057922363\n",
      "Epoch: 0650 cost=0.083498307 W=0.2948772609233856 b=0.47569891810417175\n",
      "Epoch: 0700 cost=0.082743481 W=0.29218408465385437 b=0.4950735867023468\n",
      "Epoch: 0750 cost=0.082076013 W=0.28965097665786743 b=0.5132960677146912\n",
      "Epoch: 0800 cost=0.081485726 W=0.2872684895992279 b=0.5304360389709473\n",
      "Epoch: 0850 cost=0.080963783 W=0.28502774238586426 b=0.5465559363365173\n",
      "Epoch: 0900 cost=0.080502287 W=0.2829202115535736 b=0.5617173314094543\n",
      "Epoch: 0950 cost=0.080094211 W=0.28093793988227844 b=0.5759772062301636\n",
      "Epoch: 1000 cost=0.079733402 W=0.27907365560531616 b=0.589388906955719\n",
      "Optimization Finished!\n",
      "Training cost=0.07973340153694153\n"
     ]
    },
    {
     "data": {
      "image/png": "[encoded data removed]",
      "text/plain": [
       "<matplotlib.figure.Figure at 0x7fdf5d306b38>"
      ]
     },
     "metadata": {},
     "output_type": "display_data"
    }
   ],
   "source": [
    "# launch the graph\n",
    "with tf.Session() as sess:\n",
    "    sess.run(init)\n",
    "\n",
    "    # fit all training data\n",
    "    for epoch in range(training_epochs):\n",
    "        for (x, y) in zip(train_X, train_Y):\n",
    "            sess.run(optimizer, feed_dict={X: x, Y: y})\n",
    "\n",
    "        #Display logs per epoch step\n",
    "        if (epoch+1) % display_step == 0:\n",
    "            c = sess.run(cost, feed_dict={X: train_X, Y:train_Y})\n",
    "            print(\"Epoch: {0:04d} cost={1:.9f} W={2} b={3}\" \n",
    "                  .format(epoch+1, c, sess.run(W), sess.run(b)))\n",
    "\n",
    "    print(\"Optimization Finished!\")\n",
    "    training_cost = sess.run(cost, feed_dict={X: train_X, Y: train_Y})\n",
    "    print(\"Training cost={0}\" .format(c))\n",
    "    \n",
    "    # plot result\n",
    "    plt.plot(train_X, train_Y, 'ro', label='Original data')\n",
    "    plt.plot(train_X, sess.run(W) * train_X + sess.run(b), label='Fitted line')\n",
    "    plt.legend()\n",
    "    plt.show()"
   ]
  },
  {
   "cell_type": "code",
   "execution_count": null,
   "metadata": {
    "collapsed": true
   },
   "outputs": [],
   "source": []
  }
 ],
 "metadata": {
  "kernelspec": {
   "display_name": "Python 3",
   "language": "python",
   "name": "python3"
  },
  "language_info": {
   "codemirror_mode": {
    "name": "ipython",
    "version": 3
   },
   "file_extension": ".py",
   "mimetype": "text/x-python",
   "name": "python",
   "nbconvert_exporter": "python",
   "pygments_lexer": "ipython3",
   "version": "3.4.3"
  }
 },
 "nbformat": 4,
 "nbformat_minor": 0
}
